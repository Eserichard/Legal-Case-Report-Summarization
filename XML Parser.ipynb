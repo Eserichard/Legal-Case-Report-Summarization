{
 "cells": [
  {
   "cell_type": "code",
   "execution_count": 1,
   "metadata": {},
   "outputs": [],
   "source": [
    "# read in files\n",
    "\n",
    "# for each file, parse into soup\n",
    "\n",
    "    # find all catchprases\n",
    "        # for each catchprase, extract text and store in a list\n",
    "    # save list as pickle to disk\n",
    "\n",
    "    # find all sentences\n",
    "        # for each sentence, extract text and store in a list\n",
    "    # save list as pickle to disk"
   ]
  },
  {
   "cell_type": "code",
   "execution_count": 138,
   "metadata": {},
   "outputs": [],
   "source": [
    "import re\n",
    "import os\n",
    "import pickle\n",
    "from bs4 import BeautifulSoup\n",
    "\n",
    "# set directory to case reports\n",
    "base_dir = 'data/fulltext'\n",
    "\n",
    "# Make directory to store extracted catchphrases\n",
    "catch_directory = os.path.dirname('data/catch_text/')\n",
    "if not os.path.exists(catch_directory):\n",
    "    os.makedirs(catch_directory)\n",
    "    \n",
    "# Make directory to store extracted sentences\n",
    "sent_directory = os.path.dirname('data/sent_text/')\n",
    "if not os.path.exists(sent_directory):\n",
    "    os.makedirs(sent_directory)\n",
    "    \n",
    "# read in case files\n",
    "for num, filename in enumerate(os.scandir(base_dir)):\n",
    "    with open(filename, 'rb') as case_file:\n",
    "            # parse case file into beautiful soup\n",
    "            soup = BeautifulSoup(case_file, 'xml')\n",
    "            \n",
    "            # obtain all catchphrases in the case file\n",
    "            catchphrases = soup.find_all('catchphrase')\n",
    "            \n",
    "            # obtain all sentences in the case file\n",
    "            sentences = soup.find_all('sentence')\n",
    "            \n",
    "            # obtain all text in identified catchphrase and store them together\n",
    "            gold_catchphrases = []\n",
    "            for catchphrase in catchphrases:\n",
    "                text = catchphrase.text\n",
    "                text = re.sub(r'.*>','',text)\n",
    "                gold_catchphrases.append(text)\n",
    "                \n",
    "            # obtain all text in identified sentences and store them together\n",
    "            gold_sentences = []\n",
    "            for sentence in sentences:\n",
    "                text = sentence.text\n",
    "                gold_sentences.append(text)\n",
    "            \n",
    "            num += 1\n",
    "            num = str(num)\n",
    "            \n",
    "            #print(gold_sentences)\n",
    "                        \n",
    "            # save catchphrases as pickle\n",
    "            pickle_out = open(os.path.join(catch_directory, num),\"wb\")\n",
    "            pickle.dump(gold_catchphrases, pickle_out)\n",
    "            pickle_out.close()\n",
    "            \n",
    "            # save sentences as pickle\n",
    "            pickle_out = open(os.path.join(sent_directory, num),\"wb\")\n",
    "            pickle.dump(gold_sentences, pickle_out)\n",
    "            pickle_out.close()"
   ]
  }
 ],
 "metadata": {
  "kernelspec": {
   "display_name": "Python 3",
   "language": "python",
   "name": "python3"
  },
  "language_info": {
   "codemirror_mode": {
    "name": "ipython",
    "version": 3
   },
   "file_extension": ".py",
   "mimetype": "text/x-python",
   "name": "python",
   "nbconvert_exporter": "python",
   "pygments_lexer": "ipython3",
   "version": "3.7.4"
  }
 },
 "nbformat": 4,
 "nbformat_minor": 4
}
