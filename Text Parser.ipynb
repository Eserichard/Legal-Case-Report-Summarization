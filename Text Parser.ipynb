{
 "cells": [
  {
   "cell_type": "markdown",
   "metadata": {},
   "source": [
    "# Import Packages"
   ]
  },
  {
   "cell_type": "code",
   "execution_count": 1,
   "metadata": {},
   "outputs": [],
   "source": [
    "import re\n",
    "import os\n",
    "import nltk\n",
    "import pickle\n",
    "import justext\n",
    "import nltk.data\n",
    "import pandas as pd \n",
    "from nltk.tokenize import TreebankWordTokenizer\n",
    "from bs4 import BeautifulSoup\n",
    "from nltk.tokenize import sent_tokenize\n",
    "from nltk.corpus import stopwords\n",
    "\n",
    "stop_words = stopwords.words('english')\n",
    "sentence_tokenizer = nltk.data.load('tokenizers/punkt/english.pickle')\n",
    "treebank_tokenizer = TreebankWordTokenizer()"
   ]
  },
  {
   "cell_type": "markdown",
   "metadata": {},
   "source": [
    "# Text Preprocessing\n",
    "- Set working directory\n",
    "- Create a new directory that stores the cleaned text - 'data_directory'\n",
    "- Read and parse through case files using BeautifulSoup\n",
    "- Create 3 dictionaries for multilevel storage\n",
    "- Extract and clean the Name, Catchphrases and Sentences of each case \n",
    "- In gold_catch{}, key - 'Catchphrases', value - the extracted catchphrases\n",
    "- In gold_sent{}, key - 'Sentences', value - the extracted sentences\n",
    "- In gold_text{}, key - name of case, value - gold_catch and gold_sent\n",
    "- Store each gold_text in folder 'data' as pickle file"
   ]
  },
  {
   "cell_type": "code",
   "execution_count": 2,
   "metadata": {},
   "outputs": [],
   "source": [
    "# set directory to case reports\n",
    "base_dir = '/fulltext'\n",
    "\n",
    "# Make directory to store extracted text\n",
    "data_directory = os.path.dirname('data/')\n",
    "if not os.path.exists(data_directory):\n",
    "    os.makedirs(data_directory)\n",
    "    \n",
    "# read in case files\n",
    "for num, filename in enumerate(os.scandir(base_dir)):\n",
    "    with open(filename, 'rb') as case_file:\n",
    "            # parse case file into beautiful soup\n",
    "            soup = BeautifulSoup(case_file, 'xml')\n",
    "            \n",
    "            # create 2 dictionaries to store the case names as key \n",
    "            # and list of sentences and catchphrases as values\n",
    "            # the third gold_text{} will store the other two in a multilevel fashion\n",
    "            gold_text = {}\n",
    "            gold_sent = {}\n",
    "            gold_catch = {}\n",
    "            \n",
    "            # obtain all names in the case files\n",
    "            names = soup.find_all('name')\n",
    "\n",
    "            # obtain all catchphrases in the case file\n",
    "            catchphrases = soup.find_all('catchphrase')\n",
    "            \n",
    "            # obtain all sentences in the case file\n",
    "            sentences = soup.find_all('sentence')\n",
    "            \n",
    "            # clean and store the extracted names\n",
    "            for name in names:\n",
    "                na = name.text\n",
    "                na = re.sub(r'\\([^)]*\\)|(\\[[^)]*\\])|(FCA)|(\\d+)', '', na)\n",
    "                na = na.strip()    \n",
    "#                 print(na)\n",
    "                \n",
    "            # clean and store the extracted catchphrases \n",
    "            gold_catchphrases = []\n",
    "            for catchphrase in catchphrases:\n",
    "                text = catchphrase.text\n",
    "                text = re.sub(r'.*>','',text)\n",
    "                gold_catchphrases.append(text)\n",
    "                \n",
    "            # clean and store the extracted sentences                \n",
    "            gold_sentences = []\n",
    "            for sentence in sentences:\n",
    "                text = sentence.text\n",
    "                text = text.strip()\n",
    "                text = text.strip('.')\n",
    "                text = text.lstrip('0123456789.- ')\n",
    "                text = re.sub(r'(( [\\d])$)|(.*>)|(\\n)','',text)\n",
    "                text = text.strip()\n",
    "                gold_sentences.append(text)\n",
    "                \n",
    "            num += 1\n",
    "            num = str(num)\n",
    "                \n",
    "            # remove any missing sentences\n",
    "            gold_sentences = [x for x in gold_sentences if x]\n",
    "\n",
    "            # store the name as key and the sentences as value\n",
    "            gold_sent['Sentences'] = gold_sentences\n",
    "            \n",
    "            # store the name as key and the catchphrases as value\n",
    "            gold_catch['Catchphrases'] = gold_catchphrases\n",
    "            \n",
    "            # store the sentence and chatchphrase dictionaries as sub-dictionaries\n",
    "            gold_text[na] = [gold_catch, gold_sent]     \n",
    "            \n",
    "            # save the final dictionary for each case as pickle file\n",
    "            pickle_out = open(os.path.join(data_directory, num),\"wb\")\n",
    "            pickle.dump(gold_text, pickle_out)\n",
    "            pickle_out.close()"
   ]
  },
  {
   "cell_type": "code",
   "execution_count": 3,
   "metadata": {},
   "outputs": [
    {
     "name": "stdout",
     "output_type": "stream",
     "text": [
      "{'Lawrance v Human Rights and Equal Opportunity Commission': [{'Catchphrases': ['no point of principle', 'administrative law and human rights']}, {'Sentences': ['These are two applications for orders of review under the Administrative Decisions (Judicial Review) Act 1977 (Cth) (\"the AD(JR) Act\")', 'They concern correspondence sent to the Human Rights and Equal Opportunity Commission (\"the Commission\") by the applicant in late 2005', 'In a letter dated 26 September 2005, the applicant wrote to the Commission concerning allegations of unlawful discrimination', 'The Commission replied in a letter dated 7 October 2005, in which it indicated that it was not able to assist her', 'On 13 October 2005, the applicant again wrote to the Commission', 'That letter addressed alleged breaches of human rights', 'The applicant wrote to the Commission a third time on 7 November 2005, this time concerning allegations of sexual harassment', 'The Commission did not respond to the second and third letters it received from the applicant', \"It is now accepted in these proceedings in which the Commonwealth Attorney-General has intervened to act as a contradictor, that the Commission either failed to respond or responded inappropriately to the applicant's correspondence\", 'Accordingly, it is accepted by the respondents and the Attorney-General that in these two applications it is appropriate that orders be made', 'It was suggested by the second respondent and the Attorney-General that orders with substantial operative effect should be made only in matter NSD 1957 of 2005, that is orders made setting aside what had been done by the Commission', 'As to NSD 2340 of 2005, it was proposed that the application be dismissed', 'In my opinion, however, the preferable course is for orders to be made in both matters, even though this may involve duplication, in terms of the ultimate legal effect of such orders', 'One point of difference between the applicant and the respondents and the Attorney-General as to what orders should be made concerns whether orders should be made requiring the President of the Commission (\"the President\") to exercise certain powers in relation to some of the complaints', 'The statutory scheme involves the lodgement of certain complaints, relevantly, unlawful discrimination and sexual harassment, and the referral of the complaints to the President under s 46PD of the Human Rights and Equal Opportunity Commission Act 1986 (Cth) (\"the HREOC Act \")', 'Thereafter the Act requires the President to inquire and attempt to conciliate', 'That obligation is found in s 46PF of the HREOC Act', 'However, that general duty is qualified by the power conferred on the President by s 46PH to terminate a complaint for one or more of the nominated grounds', 'The applicant has submitted that in addition to any order requiring the Commission to refer some of her complaints to the President under s 46PD of the HREOC Act , there should be orders made requiring the President to inquire and attempt to conciliate under s 46PF and certain other orders concerning attendant powers of the President, including holding a conference under s 46PJ', 'In my opinion, it is sufficient that an order be made requiring the Commission to refer the matter to the President', 'I am of that view for two reasons', 'Firstly, although this is a subsidiary issue, the President is not presently a party to these proceedings', 'The utility of an order requiring the President to do some act under s 46P and later provisions, in the absence of the President being a party, is questionable', 'However, that procedural deficiency could, of course, be remedied by the joinder of the President', 'The more significant reason why I do not propose to make the orders sought by the applicant is that the HREOC Act itself directs the President to do certain things upon the referral to him or her of a complaint under s 46PD', 'It seems unnecessary and probably inappropriate for this Court to make an order requiring the President to do that which the Act requires the President to do', 'In addition, some of the orders sought by the applicant presuppose that the matter will be dealt with by the President in a particular way', 'They presuppose, for example, that the President will not exercise the power under s 46PH', 'That power is a discretionary power available to the President and it would be inappropriate to make an order that assumes it will not be exercised', 'Accordingly, I propose to make an order only that the complaints be referred to the President', 'It will then be a matter for the President to determine what powers are exercised and the manner in which they are exercised consistent with the statutory scheme which prima facie requires the President to inquire into and attempt to conciliate the complaint', 'Insofar as the complaint involving an allegation of a breach of human rights is concerned, it is accepted by the respondents that an appropriate order is that the matter be remitted to the Commission to be dealt with in accordance with s 20(1)(b)', 'That paragraph provides that the Commission is required to perform certain functions identified in s 11(1)(f) , namely to inquire into any act or practice that may be inconsistent with or contrary to any human right, and consequential conduct', 'The order proposed by the Attorney-General on his behalf and on behalf of the respondents is sufficiently prescriptive to enliven the processes flowing from s 20(1) of the HREOC Act (which, subject to s 20(2), places an obligation on the Commission to perform the functions referred to in s 11(f))', 'Another matter is an application by the applicant that her name be suppressed', 'Also, the applicant requested that orders be made in matter NSD 2340 of 2005 directed to the respondents concerning the matters to which the complaints relate and restraining their conduct', 'Dealing with that second matter, it seems inappropriate to make the orders sought', 'The power to do so is found in s 16(1)(d) of the AD(JR) Act which empowers the Court to make an order relevantly directing a party to refrain from doing any act or thing', 'That power is enlivened where the Court considers it is necessary to do justice between the parties', 'I am not affirmatively satisfied that the orders sought are orders that are necessary to do justice between the parties', 'Insofar as the alleged conduct of the second respondent is concerned, that is the matter that is the subject of complaint and it is appropriate that the procedures under the HREOC Act and related legislation be allowed to operate', 'As to the other orders proposed by the applicant are concerned, I am not satisfied they are necessary to do justice between the parties', 'In relation to the proposed order suppressing the name of the applicant, the power to make such an order is found in s 50 of the Federal Court of Australia Act 1976 (Cth) (\"the FCA Act \")', 'Such an order can be made by the Court if it is of the view it is necessary in order to prevent prejudice to the administration of justice', 'As counsel for the second respondent and the Attorney-General said, the ordinary position is that such orders are not made and the C-ourt needs to be affirmatively satisfied that the suppression or non-disclosure order is necessary', 'The applicant has elected to bring these applications, as she is entitled to do', 'It is true that, in effect, the Commission has accepted that her earlier complaints have not been dealt with in accordance with the legislative regime', \"In those circumstances, the applicant, has been required to avail herself of the Court's procedures and processes to vindicate her rights under the HREOC Act to have complaints dealt with in accordance with the legislative scheme\", 'However, in my view, that is not a sufficient reason to make an order under s 50 of the FCA Act', 'The published reasons of this Court, which will reveal her name, are limited to a broad description of the various complaints she has sought to have the Commission investigate', 'I certify that the preceding fourteen (14) numbered paragraphs are a true copy of the Reasons for Judgment herein of the Honourable Justice Moore', 'Associate:Dated: 28 February 2006 The Applicant appeared in person   Solicitor for the First Respondent: Human Rights and Equal Opportunity Commission   Counsel for the Second Respondent and the Attorney-General intervening: K Eastman   Solicitor for the Second Respondent and the Attorney-General intervening: Australian Government Solicitor   Date of Hearing: 9 February 2006   Date of Judgment: 9 February 2006    AustLII: Copyright Policy | Disclaimers | Privacy Policy | Feedback  URL: http://www.austlii.edu.au/au/cases/cth/FCA/2006/100.html']}]}\n"
     ]
    }
   ],
   "source": [
    "# # Checking sample sent_text files and catch_text files\n",
    "# c = pd.read_pickle(\"data/2\")\n",
    "# print(c)"
   ]
  },
  {
   "cell_type": "markdown",
   "metadata": {},
   "source": [
    "# Citation Extraction and Cleaning"
   ]
  },
  {
   "cell_type": "code",
   "execution_count": null,
   "metadata": {},
   "outputs": [],
   "source": [
    "# set directory to citations class\n",
    "base_dir = 'data/citations_class'\n",
    "\n",
    "# Make directory to store extracted citations\n",
    "citation_directory = os.path.dirname('data/citation_text/')\n",
    "if not os.path.exists(citation_directory):\n",
    "    os.makedirs(citation_directory)\n",
    "    \n",
    "# read in citation files\n",
    "for num, filename in enumerate(os.scandir(base_dir)):\n",
    "    with open(filename, 'rb') as case_file:\n",
    "            # parse citation file into beautiful soup\n",
    "            soup = BeautifulSoup(case_file, 'xml')\n",
    "            \n",
    "            # obtain all citations in the citations file\n",
    "            citations = soup.find_all('name')\n",
    "            \n",
    "            # obtain all cited cases in the citations file\n",
    "            cited = soup.find_all('tocase')\n",
    "            \n",
    "            # obtain all text in identified citations and store them together\n",
    "            gold_citations = []\n",
    "            for citation in citations:\n",
    "                text = citation.text\n",
    "                # Cleaning citation part by removing all the years and courts mentioned\n",
    "                text = re.sub(r'\\([^)]*\\)|(\\[[^)]*\\])|(FCA)|(\\d+)', '', text)\n",
    "                text = text.strip()\n",
    "                gold_citations.append(text)\n",
    "            \n",
    "            # obtain all text in identified cited citations and store them together\n",
    "            gold_cited = []\n",
    "            for citation in cited:\n",
    "                text = citation.text\n",
    "                # Cleaning citation part by removing all the years and courts mentioned\n",
    "                text = re.sub(r'\\([^)]*\\)|(\\[[^)]*\\])|(\\d+)|(FCA)|(;)', '', text)\n",
    "                text = re.sub(r'[ ]{2,}',' ',text)\n",
    "                text = text.strip()\n",
    "                text = re.sub(r'[A-Z]{2,}$','',text)\n",
    "                text = text.strip()\n",
    "                text = re.sub(r'[A-Z]{2,}$','',text)\n",
    "                text = text.strip()\n",
    "                text = re.sub(r'[A-Z]{2,}$','',text)\n",
    "                text = text.strip()\n",
    "                gold_cited.append(text)\n",
    "            \n",
    "            num += 1\n",
    "            num = str(num)\n",
    "            \n",
    "            # add them together\n",
    "            gold_citations = gold_citations + gold_cited\n",
    "            \n",
    "            # save citations as pickle\n",
    "            pickle_out = open(os.path.join(citation_directory, num),\"wb\")\n",
    "            pickle.dump(gold_citations, pickle_out)\n",
    "            pickle_out.close()"
   ]
  },
  {
   "cell_type": "code",
   "execution_count": null,
   "metadata": {},
   "outputs": [],
   "source": [
    "# Checking sample citation_text file\n",
    "# c = pd.read_pickle(\"data/citation_text/11\")\n",
    "# print(c)"
   ]
  }
 ],
 "metadata": {
  "celltoolbar": "Raw Cell Format",
  "kernelspec": {
   "display_name": "Python 3",
   "language": "python",
   "name": "python3"
  },
  "language_info": {
   "codemirror_mode": {
    "name": "ipython",
    "version": 3
   },
   "file_extension": ".py",
   "mimetype": "text/x-python",
   "name": "python",
   "nbconvert_exporter": "python",
   "pygments_lexer": "ipython3",
   "version": "3.7.4"
  }
 },
 "nbformat": 4,
 "nbformat_minor": 4
}
