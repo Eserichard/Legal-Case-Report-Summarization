{
 "cells": [
  {
   "cell_type": "markdown",
   "metadata": {},
   "source": [
    "# Analysis and Summarization of Legal Case Reports"
   ]
  },
  {
   "cell_type": "markdown",
   "metadata": {},
   "source": [
    "# Introduction"
   ]
  },
  {
   "cell_type": "markdown",
   "metadata": {},
   "source": [
    "This notebook contains the analysis and summarization of legal cases reports from the Federal Court of Australia (FCA), from 2006 to 2009. The dataset used in the notebook contains citations and full text decision of legal cases.\n",
    "\n",
    "The objective of this project is to generate a citation-based clustered summary for the cases in the dataset. The generated summaries gives a general idea of the cases in each cluster. This is based on the assumption that similar cases will have similar citations quoted, hence, the need for clustering cases based on similar citations\n",
    "\n",
    "The following steps have been taken to achieve our overall objectives:\n",
    "\n",
    "1. Text preprocessing: Importing the cases (as XML files), extracting the catchphrases, sentences, citations, and pre-processing them\n",
    "\n",
    "2. Clustering cases based on citations\n",
    "\n",
    "3. Summarize cases in each Cluster\n",
    "\n",
    "4. Evalution of Summaries"
   ]
  },
  {
   "cell_type": "markdown",
   "metadata": {},
   "source": [
    "## Import Packages"
   ]
  },
  {
   "cell_type": "code",
   "execution_count": 1,
   "metadata": {},
   "outputs": [],
   "source": [
    "import re\n",
    "import os\n",
    "import nltk\n",
    "import pickle\n",
    "import justext\n",
    "import nltk.data\n",
    "import pandas as pd \n",
    "import seaborn as sns; sns.set()\n",
    "import matplotlib.pyplot as plt\n",
    "from nltk.tokenize import TreebankWordTokenizer\n",
    "from bs4 import BeautifulSoup\n",
    "from nltk.tokenize import sent_tokenize\n",
    "from nltk.corpus import stopwords\n",
    "from infomap import Infomap\n",
    "\n",
    "stop_words = stopwords.words('english')\n",
    "sentence_tokenizer = nltk.data.load('tokenizers/punkt/english.pickle')\n",
    "treebank_tokenizer = TreebankWordTokenizer()"
   ]
  },
  {
   "cell_type": "markdown",
   "metadata": {},
   "source": [
    "# Section 1"
   ]
  },
  {
   "cell_type": "markdown",
   "metadata": {},
   "source": [
    "## Text Preprocessing\n",
    "- Set working directory\n",
    "- Create a new directory that stores the cleaned catchphrases from full text legal reports- 'catch_directory'\n",
    "- Create a new directory that stores the cleaned sentences from full text legal reports - 'sent_directory'\n",
    "- Read and parse through case files using BeautifulSoup\n",
    "- Extract and clean the Name, Catchphrases and Sentences of each case \n",
    "- In gold_catch{}, key - 'Catchphrases', value - the extracted catchphrases\n",
    "- In gold_sent{}, key - 'Sentences', value - the extracted sentences\n",
    "- Store each gold_sent_ and gold_catch in folder 'data' as pickle file"
   ]
  },
  {
   "cell_type": "code",
   "execution_count": 2,
   "metadata": {},
   "outputs": [],
   "source": [
    "# set directory to case reports\n",
    "base_dir = 'data/fulltext'\n",
    "\n",
    "# Make directory to store extracted catchphrases\n",
    "catch_directory = os.path.dirname('data/cleanedcatch/')\n",
    "if not os.path.exists(catch_directory):\n",
    "    os.makedirs(catch_directory)\n",
    "\n",
    "# Make directory to store extracted sentences\n",
    "sent_directory = os.path.dirname('data/cleanedsent/')\n",
    "if not os.path.exists(sent_directory):\n",
    "    os.makedirs(sent_directory)\n",
    "    \n",
    "\n",
    "# read in case files\n",
    "for num, filename in enumerate(os.scandir(base_dir)):\n",
    "    with open(filename, 'rb') as case_file:\n",
    "            # parse case file into beautiful soup\n",
    "            soup = BeautifulSoup(case_file, 'xml')\n",
    "            \n",
    "            # create 2 dictionaries to store the case names as key \n",
    "            # and list of sentences and catchphrases as values\n",
    "            gold_sent = {}\n",
    "            gold_catch = {}\n",
    "            \n",
    "            # obtain all case names in the case files\n",
    "            names = soup.find_all('name')\n",
    "\n",
    "            # obtain all catchphrases in the case file\n",
    "            catchphrases = soup.find_all('catchphrase')\n",
    "            \n",
    "            # obtain all sentences in the case file\n",
    "            sentences = soup.find_all('sentence')\n",
    "            \n",
    "            # clean and store the extracted names\n",
    "            for name in names:\n",
    "                na = name.text\n",
    "                na = re.sub(r'\\([^)]*\\)|(\\[[^)]*\\])|(FCA)|(\\d+)', '', na)\n",
    "                na = na.strip()    \n",
    "                \n",
    "            # clean and store the extracted catchphrases \n",
    "            gold_catchphrases = []\n",
    "            for catchphrase in catchphrases:\n",
    "                text = catchphrase.text\n",
    "                text = re.sub(r'.*>','',text)\n",
    "                gold_catchphrases.append(text)\n",
    "                \n",
    "            # clean and store the extracted sentences                \n",
    "            gold_sentences = []\n",
    "            for sentence in sentences:\n",
    "                text = sentence.text\n",
    "                text = text.strip()\n",
    "                text = text.strip('.')\n",
    "                text = text.lstrip('0123456789.- ')\n",
    "                text = re.sub(r'(( [\\d])$)|(.*>)|(\\n)','',text)\n",
    "                text = text.strip()\n",
    "                gold_sentences.append(text)\n",
    "                \n",
    "                \n",
    "            # remove any missing sentences\n",
    "            gold_sentences = [x for x in gold_sentences if x]\n",
    "\n",
    "            # store the name as key and the sentences as value\n",
    "            gold_sent[na] = gold_sentences\n",
    "            \n",
    "            # store the name as key and the catchphrases as value\n",
    "            gold_catch[na] = gold_catchphrases                             \n",
    "            \n",
    "            num += 1\n",
    "            num = str(num)\n",
    "            \n",
    "            # save catchphrases as pickle\n",
    "            pickle_out = open(os.path.join(catch_directory, num),\"wb\")\n",
    "            pickle.dump(gold_catch, pickle_out)\n",
    "            pickle_out.close()\n",
    "            \n",
    "            # save sentences as pickle\n",
    "            pickle_out = open(os.path.join(sent_directory, num),\"wb\")\n",
    "            pickle.dump(gold_sent, pickle_out)\n",
    "            pickle_out.close()"
   ]
  },
  {
   "cell_type": "code",
   "execution_count": 3,
   "metadata": {},
   "outputs": [],
   "source": [
    "# Checking sample sent_text files and catch_text files\n",
    "# c = pd.read_pickle(\"data/cleanedsent/1\")\n",
    "# print(c)"
   ]
  },
  {
   "cell_type": "markdown",
   "metadata": {},
   "source": [
    "## Citation Extraction and Cleaning"
   ]
  },
  {
   "cell_type": "code",
   "execution_count": 4,
   "metadata": {},
   "outputs": [],
   "source": [
    "# set directory to citations class\n",
    "base_dir = 'data/citations_class'\n",
    "\n",
    "# Make directory to store extracted citations\n",
    "citation_directory = os.path.dirname('data/citation_text/')\n",
    "if not os.path.exists(citation_directory):\n",
    "    os.makedirs(citation_directory)\n",
    "    \n",
    "# read in citation files\n",
    "for num, filename in enumerate(os.scandir(base_dir)):\n",
    "    with open(filename, 'rb') as case_file:\n",
    "            # parse citation file into beautiful soup\n",
    "            soup = BeautifulSoup(case_file, 'xml')\n",
    "            \n",
    "            # obtain all citations in the citations file\n",
    "            citations = soup.find_all('name')\n",
    "            \n",
    "            # obtain all cited cases in the citations file\n",
    "            cited = soup.find_all('tocase')\n",
    "            \n",
    "            # obtain all text in identified citations and store them together\n",
    "            gold_citations = []\n",
    "            for citation in citations:\n",
    "                text = citation.text\n",
    "                # Cleaning citation part by removing all the years and courts mentioned\n",
    "                text = re.sub(r'\\([^)]*\\)|(\\[[^)]*\\])|(FCA)|(\\d+)', '', text)\n",
    "                text = text.strip()\n",
    "                gold_citations.append(text)\n",
    "            \n",
    "            # obtain all text in identified cited citations and store them together\n",
    "            gold_cited = []\n",
    "            for citation in cited:\n",
    "                text = citation.text\n",
    "                # Cleaning citation part by removing all the years and courts mentioned\n",
    "                text = re.sub(r'\\([^)]*\\)|(\\[[^)]*\\])|(\\d+)|(FCA)|(;)', '', text)\n",
    "                text = re.sub(r'[ ]{2,}',' ',text)\n",
    "                text = text.strip()\n",
    "                text = re.sub(r'[A-Z]{2,}$','',text)\n",
    "                text = text.strip()\n",
    "                text = re.sub(r'[A-Z]{2,}$','',text)\n",
    "                text = text.strip()\n",
    "                text = re.sub(r'[A-Z]{2,}$','',text)\n",
    "                text = text.strip()\n",
    "                gold_cited.append(text)\n",
    "            \n",
    "            num += 1\n",
    "            num = str(num)\n",
    "            \n",
    "            # add them together\n",
    "            gold_citations = gold_citations + gold_cited\n",
    "            \n",
    "            # save citations as pickle\n",
    "            pickle_out = open(os.path.join(citation_directory, num),\"wb\")\n",
    "            pickle.dump(gold_citations, pickle_out)\n",
    "            pickle_out.close()"
   ]
  },
  {
   "cell_type": "code",
   "execution_count": 5,
   "metadata": {},
   "outputs": [],
   "source": [
    "# Checking sample citation_text file\n",
    "# c = pd.read_pickle(\"data/citation_text/83\")\n",
    "# print(c)"
   ]
  },
  {
   "cell_type": "markdown",
   "metadata": {},
   "source": [
    "# Section 2"
   ]
  },
  {
   "cell_type": "markdown",
   "metadata": {},
   "source": [
    "## Clustering cases based on Citations"
   ]
  },
  {
   "cell_type": "code",
   "execution_count": 6,
   "metadata": {},
   "outputs": [],
   "source": [
    "# create dictionary to store citations\n",
    "citation_dict = {}\n",
    "\n",
    "# read in all citation files and store case name as keys and cited cases as values in citation_dict\n",
    "for i in range(1,2755):\n",
    "    citation_text = pd.read_pickle(\"data/citation_text/\"+str(i))\n",
    "    if citation_text[0] not in citation_dict.keys():\n",
    "        citation_dict[citation_text[0]] = citation_text[1:]\n",
    "    else:\n",
    "        citation_dict[citation_text[0]].extend(citation_text[1:])\n",
    "\n",
    "# dictionary to assign numbers to cases i.e numbers as keys and case names as values\n",
    "num_dict = {}\n",
    "# dictionary to assign cases to numbers i.e case names as keys and numbers as values\n",
    "dict_num = {}\n",
    "dict_keys = list(citation_dict.keys())\n",
    "dict_values = list(citation_dict.values())\n",
    "dict_values = [item for sublist in dict_values for item in sublist]\n",
    "citation_list = list(set(dict_keys + dict_values))\n",
    "for i in range(len(citation_list)):\n",
    "    num_dict[i] = citation_list[i]\n",
    "    dict_num[citation_list[i]] = i\n",
    "\n",
    "\n",
    "# dictionary with case numbers instead of case names (for infomap)\n",
    "citation_dict_num = {}\n",
    "for i in range(len(num_dict.keys())):\n",
    "    if num_dict[i] in dict_keys:\n",
    "        citation_dict_num[i] = []\n",
    "        for j in range(len(citation_dict[num_dict[i]])):\n",
    "            if i in citation_dict_num.keys():\n",
    "                citation_dict_num[i].append(dict_num[citation_dict[num_dict[i]][j]])\n",
    "            else:\n",
    "                citation_dict_num[i] = dict_num[citation_dict[num_dict[i]][j]]"
   ]
  },
  {
   "cell_type": "code",
   "execution_count": 7,
   "metadata": {},
   "outputs": [],
   "source": [
    "im = Infomap()\n",
    "\n",
    "# Creating nodes and links between nodes for infomap\n",
    "for i in citation_dict_num.keys():\n",
    "    for j in range(len(citation_dict_num[i])):\n",
    "        im.add_link(i,citation_dict_num[i][j])\n",
    "\n",
    "        \n",
    "# Run the Infomap search algorithm to find optimal modules\n",
    "im.run()\n",
    "        \n",
    "modules_dict = im.get_modules()"
   ]
  },
  {
   "cell_type": "code",
   "execution_count": 8,
   "metadata": {
    "scrolled": true
   },
   "outputs": [
    {
     "name": "stdout",
     "output_type": "stream",
     "text": [
      "{1: 618, 2: 85, 3: 125, 4: 83, 5: 53, 6: 111, 7: 65, 8: 42, 9: 67, 10: 50, 11: 43, 12: 31, 13: 39, 14: 38, 15: 37, 16: 34, 17: 34, 18: 39, 19: 44, 20: 43, 21: 22, 22: 40, 23: 21, 24: 18, 25: 20, 26: 13, 27: 19, 28: 19, 29: 23, 30: 17, 31: 12, 33: 12, 34: 13, 35: 15, 36: 11, 37: 19, 38: 11, 40: 10, 46: 10}\n"
     ]
    }
   ],
   "source": [
    "# dictionary with clusters as keys and case numbers as values\n",
    "cluster_dict = {}\n",
    "for node in im.tree:\n",
    "    if node.is_leaf:\n",
    "        if num_dict[node.node_id] in dict_keys:\n",
    "            if node.module_id in cluster_dict.keys():\n",
    "                cluster_dict[node.module_id].append(node.node_id)\n",
    "            else:\n",
    "                cluster_dict[node.module_id] = [node.node_id]\n",
    "\n",
    "\n",
    "# dictionary with clusters as keys and case numbers as values (clusters with >=10 cases)\n",
    "top_clusters_dict = {}\n",
    "for key,value in cluster_dict.items():\n",
    "    #print(key, len(value))\n",
    "    if len(value) >= 10:\n",
    "        top_clusters_dict[key] = value\n",
    "\n",
    "\n",
    "# dictionary with keys as cluster number and values as names of cases\n",
    "top_clusters_dict_name = {}\n",
    "for key in top_clusters_dict.keys():\n",
    "    top_clusters_dict_name[key] = []\n",
    "    for value in top_clusters_dict[key]:\n",
    "        if key in top_clusters_dict_name.keys():\n",
    "            top_clusters_dict_name[key].append(num_dict[value])\n",
    "        else:\n",
    "            top_clusters_dict_name[key] = num_dict[value]\n",
    "            \n",
    "                                                   \n",
    "# dictionary with clusters as keys and number of cases in that cluster as values\n",
    "top_cluster_num_cases = {}\n",
    "for key,value in cluster_dict.items():\n",
    "    if len(value) >= 10:\n",
    "        top_cluster_num_cases[key] = len(value)\n",
    "print(top_cluster_num_cases)"
   ]
  },
  {
   "cell_type": "code",
   "execution_count": 9,
   "metadata": {},
   "outputs": [
    {
     "data": {
      "text/plain": [
       "2006"
      ]
     },
     "execution_count": 9,
     "metadata": {},
     "output_type": "execute_result"
    }
   ],
   "source": [
    "# total number of cases in all 38 clusters for summarization\n",
    "final_num_cases = sum(top_cluster_num_cases.values())\n",
    "final_num_cases"
   ]
  },
  {
   "cell_type": "code",
   "execution_count": 10,
   "metadata": {},
   "outputs": [],
   "source": [
    "# Saving the dictionary as pickle file\n",
    "cluster_directory = os.path.dirname('data/clusterdata/')\n",
    "if not os.path.exists(cluster_directory):\n",
    "    os.makedirs(cluster_directory)\n",
    "\n",
    "pickle_out = open(os.path.join(cluster_directory, 'clusters'),\"wb\")\n",
    "pickle.dump(top_clusters_dict_name, pickle_out)\n",
    "pickle_out.close()"
   ]
  },
  {
   "cell_type": "code",
   "execution_count": 11,
   "metadata": {},
   "outputs": [],
   "source": [
    "# Checking clusters pickle file\n",
    "# c = pd.read_pickle(\"data/clusterdata/clusters\")\n",
    "# print(c)"
   ]
  },
  {
   "cell_type": "markdown",
   "metadata": {},
   "source": [
    "## Merging cases together in the same cluster"
   ]
  },
  {
   "cell_type": "code",
   "execution_count": 12,
   "metadata": {
    "scrolled": true
   },
   "outputs": [],
   "source": [
    "from collections import defaultdict\n",
    "\n",
    "# create dictionaries to store all reference summaries and generated summaries per cluster\n",
    "ref_summary = defaultdict(list)\n",
    "to_summarize = defaultdict(list)\n",
    "\n",
    "# import clustered cases\n",
    "case_clusters = pd.read_pickle(\"data/clusterdata/clusters\")\n",
    "\n",
    "# read in all cleaned sentences(cases) and catchphrases(summaries), cluster actual cases and catchphrases\n",
    "# in the same cluster together\n",
    "for i in range(1, 3890):\n",
    "    reference = pd.read_pickle(\"data/cleanedcatch/\"+str(i))\n",
    "    case = pd.read_pickle(\"data/cleanedsent/\"+str(i))\n",
    "    \n",
    "    for cluster in case_clusters.keys():\n",
    "        sent = list(case.keys())\n",
    "        # check if case is in cluster\n",
    "        if (all(x in case_clusters[cluster] for x in sent)):\n",
    "                       \n",
    "            # add sentence to cases in the cluster\n",
    "            to_summarize[cluster].extend(case.values())\n",
    "            \n",
    "            # add catchphrases to reference summary in the cluster\n",
    "            ref_summary[cluster].extend(reference.values())"
   ]
  },
  {
   "cell_type": "markdown",
   "metadata": {},
   "source": [
    "# Section 3"
   ]
  },
  {
   "cell_type": "markdown",
   "metadata": {},
   "source": [
    "## Text Summarization for each cluster"
   ]
  },
  {
   "cell_type": "code",
   "execution_count": 14,
   "metadata": {},
   "outputs": [],
   "source": [
    "# import packages to use for summaries\n",
    "from gensim.summarization.summarizer import summarize\n",
    "from gensim.summarization.summarizer import summarize_corpus\n",
    "\n",
    "# create dictionaries to cluster summaries \n",
    "cluster_summaries = {}\n",
    "\n",
    "for cluster, cases in to_summarize.items():\n",
    "    # obtain summary for each cluster\n",
    "    cluster_summaries[cluster] = summarize_corpus(cases, ratio=0.1)"
   ]
  },
  {
   "cell_type": "code",
   "execution_count": 30,
   "metadata": {
    "scrolled": true
   },
   "outputs": [],
   "source": [
    "# checking the summary generated in a cluster\n",
    "# cluster_summaries[39]\n",
    "# cluster_summaries[40]"
   ]
  },
  {
   "cell_type": "markdown",
   "metadata": {},
   "source": [
    "# Section 4"
   ]
  },
  {
   "cell_type": "markdown",
   "metadata": {},
   "source": [
    "## Summarization Evaluation"
   ]
  },
  {
   "cell_type": "markdown",
   "metadata": {},
   "source": [
    "We will implement the Recall-Oriented Understudy for Gisting Evaluation (ROUGE-N) to evaluate how well our summary is generated. \n",
    "\n",
    "The recall in the context of ROUGE-N measures how much of the reference summary is captured by the generated summary\n",
    "\n",
    "                Recall = Number of overlapping words / Total number of words in reference summary\n",
    "                \n",
    "The precision in the context of ROUGE-N measures how much of the generated summary is relevant\n",
    "    \n",
    "                Precision = Number of overlapping words / Total number of words in generated summary\n",
    "\n",
    "We will be carrying out evaluation at the single word (token) and two-words (bigram) level which are respective ROUGE-1 and ROUGE-2"
   ]
  },
  {
   "cell_type": "code",
   "execution_count": 16,
   "metadata": {},
   "outputs": [],
   "source": [
    "# ROUGE-1 (for tokens)\n",
    "overlapping_words_count_1 = {} \n",
    "all_summary_count_1 = {}\n",
    "all_reference_count_1 = {} \n",
    "tokenized_summary = {} \n",
    "tokenized_reference = {}\n",
    "\n",
    "# ROUGE-2 (for bigrams)\n",
    "overlapping_words_count_2 = {} \n",
    "all_summary_count_2 = {}  \n",
    "all_reference_count_2 = {} \n",
    "bigrams_reference = {}\n",
    "bigrams_summary = {}\n",
    "\n",
    "# tokenize all words in each cluster summary\n",
    "for cluster, summary in cluster_summaries.items():\n",
    "    summary = ' '.join(map(str, summary))\n",
    "    tokens = treebank_tokenizer.tokenize(summary)\n",
    "    tokens = [word for word in tokens if word not in stop_words]\n",
    "    tokenized_summary[cluster] = tokens\n",
    "    bigrams_summary[cluster] = list(nltk.bigrams(tokens))\n",
    "\n",
    "# tokenize all words in each cluster reference\n",
    "for cluster, reference in ref_summary.items():\n",
    "    reference = ' '.join(map(str, reference))\n",
    "    tokens = treebank_tokenizer.tokenize(reference)\n",
    "    tokens = [word for word in tokens if word not in stop_words]\n",
    "    bigrams_reference[cluster] = list(nltk.bigrams(tokens))\n",
    "    tokenized_reference[cluster] = tokens"
   ]
  },
  {
   "cell_type": "code",
   "execution_count": 17,
   "metadata": {},
   "outputs": [],
   "source": [
    "# count overlapping words in each cluster\n",
    "for i, token_summary in tokenized_summary.items():\n",
    "    all_summary_count_1[i] = len(token_summary)\n",
    "    \n",
    "    for j, token_ref in tokenized_reference.items():\n",
    "        all_reference_count_1[j] = len(token_ref)\n",
    "        count = 0\n",
    "        \n",
    "        if i == j:\n",
    "            for word in token_ref:\n",
    "                if word in token_summary:\n",
    "                    count += 1\n",
    "            overlapping_words_count_1[j] = count"
   ]
  },
  {
   "cell_type": "code",
   "execution_count": 18,
   "metadata": {},
   "outputs": [],
   "source": [
    "# count overlapping bigrams in each cluster\n",
    "for i, bigram_summary in bigrams_summary.items():\n",
    "    all_summary_count_2[i] = len(bigram_summary)\n",
    "    \n",
    "    for j, bigram_ref in bigrams_reference.items():\n",
    "        all_reference_count_2[j] = len(bigram_ref)\n",
    "        count = 0\n",
    "        \n",
    "        if i == j:\n",
    "            for bigram in bigram_ref:\n",
    "                if bigram in bigram_summary:\n",
    "                    count += 1\n",
    "            overlapping_words_count_2[j] = count"
   ]
  },
  {
   "cell_type": "code",
   "execution_count": 19,
   "metadata": {},
   "outputs": [],
   "source": [
    "def calc_recall(overlapping_word_count, reference_word_count):\n",
    "    rouge_1_recall = {}\n",
    "    for i, ref_count in reference_word_count.items():\n",
    "        for j, score in overlapping_word_count.items():\n",
    "            if i == j:\n",
    "                rouge_1_recall[j] = overlapping_word_count[j]/reference_word_count[i]\n",
    "    return rouge_1_recall\n",
    "\n",
    "def calc_precision(overlapping_word_count, summary_word_count):\n",
    "    rouge_1_precision = {}\n",
    "    for i, sum_count in summary_word_count.items():\n",
    "        for j, score in overlapping_word_count.items():\n",
    "            if i == j:\n",
    "                if not summary_word_count[i]:\n",
    "                    rouge_1_precision[j] = 0\n",
    "                else:\n",
    "                    rouge_1_precision[j] = overlapping_word_count[j]/summary_word_count[i]\n",
    "    return rouge_1_precision"
   ]
  },
  {
   "cell_type": "code",
   "execution_count": 20,
   "metadata": {},
   "outputs": [],
   "source": [
    "# ROUGE-1 Recall and Precision\n",
    "rouge_1_recall = calc_recall(overlapping_words_count_1, all_reference_count_1)\n",
    "rouge_1_precision = calc_precision(overlapping_words_count_1, all_summary_count_1)\n",
    "\n",
    "# ROUGE-2 Recall and Precision\n",
    "rouge_2_recall = calc_recall(overlapping_words_count_2, all_reference_count_2)\n",
    "rouge_2_precision = calc_precision(overlapping_words_count_2, all_summary_count_2)"
   ]
  },
  {
   "cell_type": "code",
   "execution_count": 21,
   "metadata": {},
   "outputs": [],
   "source": [
    "# create data frame for ROUGE-1 scores\n",
    "df_rogue_1_recall = pd.DataFrame.from_dict(rouge_1_recall, orient='index',\n",
    "                       columns=['recall']).reset_index()\n",
    "df_rogue_1_recall = df_rogue_1_recall.rename(columns={\"index\": \"Cluster\", \"recall\": \"Recall\"}).sort_values(by=['Cluster'])\n",
    "\n",
    "\n",
    "df_rogue_1_precision = pd.DataFrame.from_dict(rouge_1_precision, orient='index',\n",
    "                       columns=['Precision']).reset_index()\n",
    "df_rogue_1_precision = df_rogue_1_precision.rename(columns={\"index\": \"Cluster\"}).sort_values(by=['Cluster'])\n",
    "\n",
    "# merge both recall and precision in one dataframe\n",
    "df_rogue_1_recall_and_precision = pd.merge(df_rogue_1_recall, df_rogue_1_precision, on='Cluster', how='outer')\n",
    "\n",
    "# set the cluster column as index\n",
    "df_rogue_1_recall_and_precision = df_rogue_1_recall_and_precision.set_index('Cluster')"
   ]
  },
  {
   "cell_type": "code",
   "execution_count": 31,
   "metadata": {},
   "outputs": [
    {
     "data": {
      "text/html": [
       "<div>\n",
       "<style scoped>\n",
       "    .dataframe tbody tr th:only-of-type {\n",
       "        vertical-align: middle;\n",
       "    }\n",
       "\n",
       "    .dataframe tbody tr th {\n",
       "        vertical-align: top;\n",
       "    }\n",
       "\n",
       "    .dataframe thead th {\n",
       "        text-align: right;\n",
       "    }\n",
       "</style>\n",
       "<table border=\"1\" class=\"dataframe\">\n",
       "  <thead>\n",
       "    <tr style=\"text-align: right;\">\n",
       "      <th></th>\n",
       "      <th>Recall</th>\n",
       "      <th>Precision</th>\n",
       "    </tr>\n",
       "    <tr>\n",
       "      <th>Cluster</th>\n",
       "      <th></th>\n",
       "      <th></th>\n",
       "    </tr>\n",
       "  </thead>\n",
       "  <tbody>\n",
       "    <tr>\n",
       "      <th>1</th>\n",
       "      <td>0.881316</td>\n",
       "      <td>0.115485</td>\n",
       "    </tr>\n",
       "    <tr>\n",
       "      <th>2</th>\n",
       "      <td>0.859986</td>\n",
       "      <td>0.016544</td>\n",
       "    </tr>\n",
       "    <tr>\n",
       "      <th>3</th>\n",
       "      <td>0.844233</td>\n",
       "      <td>0.103896</td>\n",
       "    </tr>\n",
       "    <tr>\n",
       "      <th>4</th>\n",
       "      <td>0.858847</td>\n",
       "      <td>0.014901</td>\n",
       "    </tr>\n",
       "    <tr>\n",
       "      <th>5</th>\n",
       "      <td>0.815502</td>\n",
       "      <td>0.079886</td>\n",
       "    </tr>\n",
       "    <tr>\n",
       "      <th>6</th>\n",
       "      <td>0.783186</td>\n",
       "      <td>0.137614</td>\n",
       "    </tr>\n",
       "    <tr>\n",
       "      <th>7</th>\n",
       "      <td>0.827266</td>\n",
       "      <td>0.037296</td>\n",
       "    </tr>\n",
       "    <tr>\n",
       "      <th>8</th>\n",
       "      <td>0.787498</td>\n",
       "      <td>0.076074</td>\n",
       "    </tr>\n",
       "    <tr>\n",
       "      <th>9</th>\n",
       "      <td>0.875647</td>\n",
       "      <td>0.030312</td>\n",
       "    </tr>\n",
       "    <tr>\n",
       "      <th>10</th>\n",
       "      <td>0.868085</td>\n",
       "      <td>0.032056</td>\n",
       "    </tr>\n",
       "    <tr>\n",
       "      <th>11</th>\n",
       "      <td>0.735864</td>\n",
       "      <td>0.093868</td>\n",
       "    </tr>\n",
       "    <tr>\n",
       "      <th>12</th>\n",
       "      <td>0.802360</td>\n",
       "      <td>0.041539</td>\n",
       "    </tr>\n",
       "    <tr>\n",
       "      <th>13</th>\n",
       "      <td>0.798483</td>\n",
       "      <td>0.120583</td>\n",
       "    </tr>\n",
       "    <tr>\n",
       "      <th>14</th>\n",
       "      <td>0.755224</td>\n",
       "      <td>0.093329</td>\n",
       "    </tr>\n",
       "    <tr>\n",
       "      <th>15</th>\n",
       "      <td>0.756509</td>\n",
       "      <td>0.063422</td>\n",
       "    </tr>\n",
       "    <tr>\n",
       "      <th>16</th>\n",
       "      <td>0.742741</td>\n",
       "      <td>0.087441</td>\n",
       "    </tr>\n",
       "    <tr>\n",
       "      <th>17</th>\n",
       "      <td>0.694942</td>\n",
       "      <td>0.148597</td>\n",
       "    </tr>\n",
       "    <tr>\n",
       "      <th>18</th>\n",
       "      <td>0.703460</td>\n",
       "      <td>0.148926</td>\n",
       "    </tr>\n",
       "    <tr>\n",
       "      <th>19</th>\n",
       "      <td>0.717185</td>\n",
       "      <td>0.091183</td>\n",
       "    </tr>\n",
       "    <tr>\n",
       "      <th>20</th>\n",
       "      <td>0.701833</td>\n",
       "      <td>0.180672</td>\n",
       "    </tr>\n",
       "    <tr>\n",
       "      <th>21</th>\n",
       "      <td>0.720246</td>\n",
       "      <td>0.151810</td>\n",
       "    </tr>\n",
       "    <tr>\n",
       "      <th>22</th>\n",
       "      <td>0.662022</td>\n",
       "      <td>0.282343</td>\n",
       "    </tr>\n",
       "    <tr>\n",
       "      <th>23</th>\n",
       "      <td>0.652277</td>\n",
       "      <td>0.139736</td>\n",
       "    </tr>\n",
       "    <tr>\n",
       "      <th>24</th>\n",
       "      <td>0.702466</td>\n",
       "      <td>0.048039</td>\n",
       "    </tr>\n",
       "    <tr>\n",
       "      <th>25</th>\n",
       "      <td>0.680945</td>\n",
       "      <td>0.176156</td>\n",
       "    </tr>\n",
       "    <tr>\n",
       "      <th>26</th>\n",
       "      <td>0.566639</td>\n",
       "      <td>0.159924</td>\n",
       "    </tr>\n",
       "    <tr>\n",
       "      <th>27</th>\n",
       "      <td>0.733851</td>\n",
       "      <td>0.116788</td>\n",
       "    </tr>\n",
       "    <tr>\n",
       "      <th>28</th>\n",
       "      <td>0.669421</td>\n",
       "      <td>0.147483</td>\n",
       "    </tr>\n",
       "    <tr>\n",
       "      <th>29</th>\n",
       "      <td>0.757218</td>\n",
       "      <td>0.150810</td>\n",
       "    </tr>\n",
       "    <tr>\n",
       "      <th>30</th>\n",
       "      <td>0.555736</td>\n",
       "      <td>0.241087</td>\n",
       "    </tr>\n",
       "    <tr>\n",
       "      <th>31</th>\n",
       "      <td>0.521702</td>\n",
       "      <td>0.274150</td>\n",
       "    </tr>\n",
       "    <tr>\n",
       "      <th>33</th>\n",
       "      <td>0.682654</td>\n",
       "      <td>0.039467</td>\n",
       "    </tr>\n",
       "    <tr>\n",
       "      <th>34</th>\n",
       "      <td>0.556664</td>\n",
       "      <td>0.157810</td>\n",
       "    </tr>\n",
       "    <tr>\n",
       "      <th>35</th>\n",
       "      <td>0.534153</td>\n",
       "      <td>0.437850</td>\n",
       "    </tr>\n",
       "    <tr>\n",
       "      <th>36</th>\n",
       "      <td>0.655822</td>\n",
       "      <td>0.135360</td>\n",
       "    </tr>\n",
       "    <tr>\n",
       "      <th>37</th>\n",
       "      <td>0.000000</td>\n",
       "      <td>0.000000</td>\n",
       "    </tr>\n",
       "    <tr>\n",
       "      <th>38</th>\n",
       "      <td>0.634503</td>\n",
       "      <td>0.170665</td>\n",
       "    </tr>\n",
       "    <tr>\n",
       "      <th>40</th>\n",
       "      <td>0.651079</td>\n",
       "      <td>0.078245</td>\n",
       "    </tr>\n",
       "    <tr>\n",
       "      <th>46</th>\n",
       "      <td>0.529148</td>\n",
       "      <td>0.352590</td>\n",
       "    </tr>\n",
       "  </tbody>\n",
       "</table>\n",
       "</div>"
      ],
      "text/plain": [
       "           Recall  Precision\n",
       "Cluster                     \n",
       "1        0.881316   0.115485\n",
       "2        0.859986   0.016544\n",
       "3        0.844233   0.103896\n",
       "4        0.858847   0.014901\n",
       "5        0.815502   0.079886\n",
       "6        0.783186   0.137614\n",
       "7        0.827266   0.037296\n",
       "8        0.787498   0.076074\n",
       "9        0.875647   0.030312\n",
       "10       0.868085   0.032056\n",
       "11       0.735864   0.093868\n",
       "12       0.802360   0.041539\n",
       "13       0.798483   0.120583\n",
       "14       0.755224   0.093329\n",
       "15       0.756509   0.063422\n",
       "16       0.742741   0.087441\n",
       "17       0.694942   0.148597\n",
       "18       0.703460   0.148926\n",
       "19       0.717185   0.091183\n",
       "20       0.701833   0.180672\n",
       "21       0.720246   0.151810\n",
       "22       0.662022   0.282343\n",
       "23       0.652277   0.139736\n",
       "24       0.702466   0.048039\n",
       "25       0.680945   0.176156\n",
       "26       0.566639   0.159924\n",
       "27       0.733851   0.116788\n",
       "28       0.669421   0.147483\n",
       "29       0.757218   0.150810\n",
       "30       0.555736   0.241087\n",
       "31       0.521702   0.274150\n",
       "33       0.682654   0.039467\n",
       "34       0.556664   0.157810\n",
       "35       0.534153   0.437850\n",
       "36       0.655822   0.135360\n",
       "37       0.000000   0.000000\n",
       "38       0.634503   0.170665\n",
       "40       0.651079   0.078245\n",
       "46       0.529148   0.352590"
      ]
     },
     "execution_count": 31,
     "metadata": {},
     "output_type": "execute_result"
    }
   ],
   "source": [
    "df_rogue_1_recall_and_precision"
   ]
  },
  {
   "cell_type": "code",
   "execution_count": 22,
   "metadata": {},
   "outputs": [],
   "source": [
    "# create data frame for ROUGE-2 scores\n",
    "df_rogue_2_recall = pd.DataFrame.from_dict(rouge_2_recall, orient='index',\n",
    "                       columns=['recall']).reset_index()\n",
    "df_rogue_2_recall = df_rogue_2_recall.rename(columns={\"index\": \"Cluster\", \"recall\": \"Recall\"}).sort_values(by=['Cluster'])\n",
    "\n",
    "\n",
    "df_rogue_2_precision = pd.DataFrame.from_dict(rouge_2_precision, orient='index',\n",
    "                       columns=['Precision']).reset_index()\n",
    "df_rogue_2_precision = df_rogue_2_precision.rename(columns={\"index\": \"Cluster\"}).sort_values(by=['Cluster'])\n",
    "\n",
    "# merge both recall and precision in one dataframe\n",
    "df_rogue_2_recall_and_precision = pd.merge(df_rogue_2_recall, df_rogue_2_precision, on='Cluster', how='outer')\n",
    "\n",
    "# set the cluster column as index\n",
    "df_rogue_2_recall_and_precision = df_rogue_2_recall_and_precision.set_index('Cluster')"
   ]
  },
  {
   "cell_type": "code",
   "execution_count": 23,
   "metadata": {
    "scrolled": true
   },
   "outputs": [
    {
     "data": {
      "text/plain": [
       "Text(0.5, 1.0, 'Line Plot of ROUGE-1 Precision/Recall and Case Clusters')"
      ]
     },
     "execution_count": 23,
     "metadata": {},
     "output_type": "execute_result"
    },
    {
     "data": {
      "image/png": "[encoded data removed]",
      "text/plain": [
       "<Figure size 432x288 with 1 Axes>"
      ]
     },
     "metadata": {},
     "output_type": "display_data"
    }
   ],
   "source": [
    "rouge1_plot = sns.lineplot(data=df_rogue_1_recall_and_precision, markers=True)\n",
    "plt.title(\"Line Plot of ROUGE-1 Precision/Recall and Case Clusters\")"
   ]
  },
  {
   "cell_type": "code",
   "execution_count": 24,
   "metadata": {},
   "outputs": [
    {
     "data": {
      "text/plain": [
       "Text(0.5, 1.0, 'Line Plot of ROUGE-2 Precision/Recall and Case Clusters')"
      ]
     },
     "execution_count": 24,
     "metadata": {},
     "output_type": "execute_result"
    },
    {
     "data": {
      "image/png": "[encoded data removed]",
      "text/plain": [
       "<Figure size 432x288 with 1 Axes>"
      ]
     },
     "metadata": {},
     "output_type": "display_data"
    }
   ],
   "source": [
    "rouge2_plot = sns.lineplot(data=df_rogue_2_recall_and_precision, markers=True)\n",
    "plt.title(\"Line Plot of ROUGE-2 Precision/Recall and Case Clusters\")"
   ]
  },
  {
   "cell_type": "markdown",
   "metadata": {},
   "source": [
    "# Summary"
   ]
  },
  {
   "cell_type": "markdown",
   "metadata": {},
   "source": [
    "3890 legal cases reports obtained from the Federal Court of Austrialia between 2006 to 2009 have been utilized in this project. The cases were preprocessed to extract the catchphrases (to be used as reference summary for evaluation) and actual case decisions. Also, citations and cases cited were extracted. Other irrelevant characters and figures were removed.\n",
    "\n",
    "Furthermore, the cases were clustered based on similar citations in the different cases reports. 281 clusters were generated with cluster 1 having 618 cases while several clusters had just a case. Clusters with more than 10 cases per cluster were selected for case summarization. 39 clusters representing 51.56% (2006) of all cases were feed to the textrank algorithm for summarization. This is an extractive summarization method. Summaries were generated for all 39 cluster with the exception of cluster 37.\n",
    "\n",
    "The metric chosen for evaluating the summaries generated was the Recall-Oriented Understudy for Gisting Evaluation (ROUGE-N). The recall and precision for monogram (ROUGE-1) and bigram (ROUGE-2) were plot for all clusters. The same recall and precision trend is observed when the summaries are evaluated as monogram and bigram. For ROUGE-1, the maximum recall score was recorded as 0.8813 for cluster 1, with a close score for cluster 9 at 0.8756. The minimum recall score was 0 at cluster 37, since no summary was generated, cluster 31 comes close at 0.5217. Generally, the summaries had low precision scores with a maximum at cluster 46 (0.3525) and a minimum at cluster 4 (0.0149).\n",
    "\n",
    "A great deal of work has been done to generate the summaries for each cluster. The summaries generated gives a good representation of cases that are similar based on citations, judging by an overall recall score greater than 0.5. These summaries can be used in getting an overall understanding of the cases within the period 2006 - 2009."
   ]
  }
 ],
 "metadata": {
  "celltoolbar": "Raw Cell Format",
  "kernelspec": {
   "display_name": "Python 3",
   "language": "python",
   "name": "python3"
  },
  "language_info": {
   "codemirror_mode": {
    "name": "ipython",
    "version": 3
   },
   "file_extension": ".py",
   "mimetype": "text/x-python",
   "name": "python",
   "nbconvert_exporter": "python",
   "pygments_lexer": "ipython3",
   "version": "3.7.6"
  }
 },
 "nbformat": 4,
 "nbformat_minor": 4
}
