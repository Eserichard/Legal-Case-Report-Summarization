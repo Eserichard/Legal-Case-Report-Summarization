{
 "cells": [
  {
   "cell_type": "markdown",
   "metadata": {},
   "source": [
    "# Introduction"
   ]
  },
  {
   "cell_type": "markdown",
   "metadata": {},
   "source": [
    "This notebook contains the analysis and summarization of legal cases reports from the Federal Court of Australia (FCA), from 2006 to 2009. The dataset used in the notebook contains citations and full text decision of legal cases.\n",
    "\n",
    "The objective of this project is to generate a citation-based clustered summary for the cases in the dataset. The generated summaries gives a general idea of the cases in each cluster. This is based on the assumption that similar cases will have similar citations quoted, hence, the need for clustering cases based on similar citations\n",
    "\n",
    "The following steps have been taken to achieve our overall objectives:\n",
    "\n",
    "1. Text preprocessing: Importing the cases (as XML files), extracting the catchphrases, sentences, citations, and pre-processing them\n",
    "\n",
    "2. Clustering cases based on citations\n",
    "\n",
    "3. Summarize cases in each Cluster\n",
    "\n",
    "4. Evalution of Summaries"
   ]
  },
  {
   "cell_type": "markdown",
   "metadata": {},
   "source": [
    "## Import Packages"
   ]
  },
  {
   "cell_type": "code",
   "execution_count": 2,
   "metadata": {},
   "outputs": [],
   "source": [
    "import re\n",
    "import os\n",
    "import nltk\n",
    "import pickle\n",
    "import justext\n",
    "import nltk.data\n",
    "import pandas as pd \n",
    "import seaborn as sns; sns.set()\n",
    "import matplotlib.pyplot as plt\n",
    "from nltk.tokenize import TreebankWordTokenizer\n",
    "from bs4 import BeautifulSoup\n",
    "from nltk.tokenize import sent_tokenize\n",
    "from nltk.corpus import stopwords\n",
    "from infomap import Infomap\n",
    "\n",
    "stop_words = stopwords.words('english')\n",
    "sentence_tokenizer = nltk.data.load('tokenizers/punkt/english.pickle')\n",
    "treebank_tokenizer = TreebankWordTokenizer()"
   ]
  },
  {
   "cell_type": "markdown",
   "metadata": {},
   "source": [
    "# Section 1"
   ]
  },
  {
   "cell_type": "markdown",
   "metadata": {},
   "source": [
    "## Text Preprocessing\n",
    "- Set working directory\n",
    "- Create a new directory that stores the cleaned catchphrases from full text legal reports- 'catch_directory'\n",
    "- Create a new directory that stores the cleaned sentences from full text legal reports - 'sent_directory'\n",
    "- Read and parse through case files using BeautifulSoup\n",
    "- Extract and clean the Name, Catchphrases and Sentences of each case \n",
    "- In gold_catch{}, key - 'Catchphrases', value - the extracted catchphrases\n",
    "- In gold_sent{}, key - 'Sentences', value - the extracted sentences\n",
    "- Store each gold_sent_ and gold_catch in folder 'data' as pickle file"
   ]
  },
  {
   "cell_type": "code",
   "execution_count": 3,
   "metadata": {},
   "outputs": [],
   "source": [
    "# set directory to case reports\n",
    "base_dir = 'data/fulltext'\n",
    "\n",
    "# Make directory to store extracted catchphrases\n",
    "catch_directory = os.path.dirname('data/cleanedcatch/')\n",
    "if not os.path.exists(catch_directory):\n",
    "    os.makedirs(catch_directory)\n",
    "\n",
    "# Make directory to store extracted sentences\n",
    "sent_directory = os.path.dirname('data/cleanedsent/')\n",
    "if not os.path.exists(sent_directory):\n",
    "    os.makedirs(sent_directory)\n",
    "    \n",
    "\n",
    "# read in case files\n",
    "for num, filename in enumerate(os.scandir(base_dir)):\n",
    "    with open(filename, 'rb') as case_file:\n",
    "            # parse case file into beautiful soup\n",
    "            soup = BeautifulSoup(case_file, 'xml')\n",
    "            \n",
    "            # create 2 dictionaries to store the case names as key \n",
    "            # and list of sentences and catchphrases as values\n",
    "            gold_sent = {}\n",
    "            gold_catch = {}\n",
    "            \n",
    "            # obtain all case names in the case files\n",
    "            names = soup.find_all('name')\n",
    "\n",
    "            # obtain all catchphrases in the case file\n",
    "            catchphrases = soup.find_all('catchphrase')\n",
    "            \n",
    "            # obtain all sentences in the case file\n",
    "            sentences = soup.find_all('sentence')\n",
    "            \n",
    "            # clean and store the extracted names\n",
    "            for name in names:\n",
    "                na = name.text\n",
    "                na = re.sub(r'\\([^)]*\\)|(\\[[^)]*\\])|(FCA)|(\\d+)', '', na)\n",
    "                na = na.strip()    \n",
    "                \n",
    "            # clean and store the extracted catchphrases \n",
    "            gold_catchphrases = []\n",
    "            for catchphrase in catchphrases:\n",
    "                text = catchphrase.text\n",
    "                text = re.sub(r'.*>','',text)\n",
    "                gold_catchphrases.append(text)\n",
    "                \n",
    "            # clean and store the extracted sentences                \n",
    "            gold_sentences = []\n",
    "            for sentence in sentences:\n",
    "                text = sentence.text\n",
    "                text = text.strip()\n",
    "                text = text.strip('.')\n",
    "                text = text.lstrip('0123456789.- ')\n",
    "                text = re.sub(r'(( [\\d])$)|(.*>)|(\\n)','',text)\n",
    "                text = text.strip()\n",
    "                gold_sentences.append(text)\n",
    "                \n",
    "                \n",
    "            # remove any missing sentences\n",
    "            gold_sentences = [x for x in gold_sentences if x]\n",
    "\n",
    "            # store the name as key and the sentences as value\n",
    "            gold_sent[na] = gold_sentences\n",
    "            \n",
    "            # store the name as key and the catchphrases as value\n",
    "            gold_catch[na] = gold_catchphrases                             \n",
    "            \n",
    "            num += 1\n",
    "            num = str(num)\n",
    "            \n",
    "            # save catchphrases as pickle\n",
    "            pickle_out = open(os.path.join(catch_directory, num),\"wb\")\n",
    "            pickle.dump(gold_catch, pickle_out)\n",
    "            pickle_out.close()\n",
    "            \n",
    "            # save sentences as pickle\n",
    "            pickle_out = open(os.path.join(sent_directory, num),\"wb\")\n",
    "            pickle.dump(gold_sent, pickle_out)\n",
    "            pickle_out.close()"
   ]
  },
  {
   "cell_type": "code",
   "execution_count": 5,
   "metadata": {},
   "outputs": [],
   "source": [
    "# Checking sample sent_text files and catch_text files\n",
    "# c = pd.read_pickle(\"data/cleanedsent/1\")\n",
    "# print(c)"
   ]
  },
  {
   "cell_type": "markdown",
   "metadata": {},
   "source": [
    "## Citation Extraction and Cleaning"
   ]
  },
  {
   "cell_type": "code",
   "execution_count": 4,
   "metadata": {},
   "outputs": [],
   "source": [
    "# set directory to citations class\n",
    "base_dir = 'data/citations_class'\n",
    "\n",
    "# Make directory to store extracted citations\n",
    "citation_directory = os.path.dirname('data/citation_text/')\n",
    "if not os.path.exists(citation_directory):\n",
    "    os.makedirs(citation_directory)\n",
    "    \n",
    "# read in citation files\n",
    "for num, filename in enumerate(os.scandir(base_dir)):\n",
    "    with open(filename, 'rb') as case_file:\n",
    "            # parse citation file into beautiful soup\n",
    "            soup = BeautifulSoup(case_file, 'xml')\n",
    "            \n",
    "            # obtain all citations in the citations file\n",
    "            citations = soup.find_all('name')\n",
    "            \n",
    "            # obtain all cited cases in the citations file\n",
    "            cited = soup.find_all('tocase')\n",
    "            \n",
    "            # obtain all text in identified citations and store them together\n",
    "            gold_citations = []\n",
    "            for citation in citations:\n",
    "                text = citation.text\n",
    "                # Cleaning citation part by removing all the years and courts mentioned\n",
    "                text = re.sub(r'\\([^)]*\\)|(\\[[^)]*\\])|(FCA)|(\\d+)', '', text)\n",
    "                text = text.strip()\n",
    "                gold_citations.append(text)\n",
    "            \n",
    "            # obtain all text in identified cited citations and store them together\n",
    "            gold_cited = []\n",
    "            for citation in cited:\n",
    "                text = citation.text\n",
    "                # Cleaning citation part by removing all the years and courts mentioned\n",
    "                text = re.sub(r'\\([^)]*\\)|(\\[[^)]*\\])|(\\d+)|(FCA)|(;)', '', text)\n",
    "                text = re.sub(r'[ ]{2,}',' ',text)\n",
    "                text = text.strip()\n",
    "                text = re.sub(r'[A-Z]{2,}$','',text)\n",
    "                text = text.strip()\n",
    "                text = re.sub(r'[A-Z]{2,}$','',text)\n",
    "                text = text.strip()\n",
    "                text = re.sub(r'[A-Z]{2,}$','',text)\n",
    "                text = text.strip()\n",
    "                gold_cited.append(text)\n",
    "            \n",
    "            num += 1\n",
    "            num = str(num)\n",
    "            \n",
    "            # add them together\n",
    "            gold_citations = gold_citations + gold_cited\n",
    "            \n",
    "            # save citations as pickle\n",
    "            pickle_out = open(os.path.join(citation_directory, num),\"wb\")\n",
    "            pickle.dump(gold_citations, pickle_out)\n",
    "            pickle_out.close()"
   ]
  },
  {
   "cell_type": "code",
   "execution_count": 7,
   "metadata": {},
   "outputs": [],
   "source": [
    "# Checking sample citation_text file\n",
    "# c = pd.read_pickle(\"data/citation_text/83\")\n",
    "# print(c)"
   ]
  },
  {
   "cell_type": "markdown",
   "metadata": {},
   "source": [
    "# Section 2"
   ]
  },
  {
   "cell_type": "markdown",
   "metadata": {},
   "source": [
    "## Clustering cases based on Citations"
   ]
  },
  {
   "cell_type": "code",
   "execution_count": 8,
   "metadata": {},
   "outputs": [],
   "source": [
    "# create dictionary to store citations\n",
    "citation_dict = {}\n",
    "\n",
    "# read in all citation files and store case name as keys and cited cases as values in citation_dict\n",
    "for i in range(1,2755):\n",
    "    citation_text = pd.read_pickle(\"data/citation_text/\"+str(i))\n",
    "    if citation_text[0] not in citation_dict.keys():\n",
    "        citation_dict[citation_text[0]] = citation_text[1:]\n",
    "    else:\n",
    "        citation_dict[citation_text[0]].extend(citation_text[1:])\n",
    "\n",
    "# dictionary to assign numbers to cases i.e numbers as keys and case names as values\n",
    "num_dict = {}\n",
    "# dictionary to assign cases to numbers i.e case names as keys and numbers as values\n",
    "dict_num = {}\n",
    "dict_keys = list(citation_dict.keys())\n",
    "dict_values = list(citation_dict.values())\n",
    "dict_values = [item for sublist in dict_values for item in sublist]\n",
    "citation_list = list(set(dict_keys + dict_values))\n",
    "for i in range(len(citation_list)):\n",
    "    num_dict[i] = citation_list[i]\n",
    "    dict_num[citation_list[i]] = i\n",
    "\n",
    "\n",
    "# dictionary with case numbers instead of case names (for infomap)\n",
    "citation_dict_num = {}\n",
    "for i in range(len(num_dict.keys())):\n",
    "    if num_dict[i] in dict_keys:\n",
    "        citation_dict_num[i] = []\n",
    "        for j in range(len(citation_dict[num_dict[i]])):\n",
    "            if i in citation_dict_num.keys():\n",
    "                citation_dict_num[i].append(dict_num[citation_dict[num_dict[i]][j]])\n",
    "            else:\n",
    "                citation_dict_num[i] = dict_num[citation_dict[num_dict[i]][j]]\n",
    "                \n",
    "\n",
    "im = Infomap()\n",
    "\n",
    "# Creating nodes and links between nodes for infomap\n",
    "for i in citation_dict_num.keys():\n",
    "    for j in range(len(citation_dict_num[i])):\n",
    "        im.add_link(i,citation_dict_num[i][j])\n",
    "\n",
    "        \n",
    "# Run the Infomap search algorithm to find optimal modules\n",
    "im.run()\n",
    "        \n",
    "modules_dict = im.get_modules()\n",
    "\n",
    "# dictionary with clusters as keys and case numbers as values\n",
    "cluster_dict = {}\n",
    "for node in im.tree:\n",
    "    if node.is_leaf:\n",
    "        if num_dict[node.node_id] in dict_keys:\n",
    "            if node.module_id in cluster_dict.keys():\n",
    "                cluster_dict[node.module_id].append(node.node_id)\n",
    "            else:\n",
    "                cluster_dict[node.module_id] = [node.node_id]\n",
    "\n",
    "\n",
    "# dictionary with clusters as keys and case numbers as values (clusters with >=10 cases)\n",
    "top_clusters_dict = {}\n",
    "for key,value in cluster_dict.items():\n",
    "    #print(key, len(value))\n",
    "    if len(value) >= 10:\n",
    "        top_clusters_dict[key] = value\n",
    "\n",
    "\n",
    "# dictionary with keys as cluster number and values as names of cases\n",
    "top_clusters_dict_name = {}\n",
    "for key in top_clusters_dict.keys():\n",
    "    top_clusters_dict_name[key] = []\n",
    "    for value in top_clusters_dict[key]:\n",
    "        if key in top_clusters_dict_name.keys():\n",
    "            top_clusters_dict_name[key].append(num_dict[value])\n",
    "        else:\n",
    "            top_clusters_dict_name[key] = num_dict[value]\n",
    "            \n",
    "\n",
    "# Saving the dictionary as pickle file\n",
    "cluster_directory = os.path.dirname('data/clusterdata/')\n",
    "if not os.path.exists(cluster_directory):\n",
    "    os.makedirs(cluster_directory)\n",
    "\n",
    "pickle_out = open(os.path.join(cluster_directory, 'clusters'),\"wb\")\n",
    "pickle.dump(top_clusters_dict_name, pickle_out)\n",
    "pickle_out.close()"
   ]
  },
  {
   "cell_type": "code",
   "execution_count": 9,
   "metadata": {},
   "outputs": [],
   "source": [
    "# Checking clusters pickle file\n",
    "# c = pd.read_pickle(\"data/clusterdata/clusters\")\n",
    "# print(c)"
   ]
  },
  {
   "cell_type": "markdown",
   "metadata": {},
   "source": [
    "## Merging cases together in the same cluster"
   ]
  },
  {
   "cell_type": "code",
   "execution_count": 11,
   "metadata": {
    "scrolled": true
   },
   "outputs": [],
   "source": [
    "from collections import defaultdict\n",
    "\n",
    "# create dictionaries to store all reference summaries and generated summaries per cluster\n",
    "ref_summary = defaultdict(list)\n",
    "to_summarize = defaultdict(list)\n",
    "\n",
    "# import clustered cases\n",
    "case_clusters = pd.read_pickle(\"data/clusterdata/clusters\")\n",
    "\n",
    "# read in all cleaned sentences(cases) and catchphrases(summaries), cluster actual cases and catchphrases\n",
    "# in the same cluster together\n",
    "for i in range(1, 3890):\n",
    "    reference = pd.read_pickle(\"data/cleanedcatch/\"+str(i))\n",
    "    case = pd.read_pickle(\"data/cleanedsent/\"+str(i))\n",
    "    \n",
    "    for cluster in case_clusters.keys():\n",
    "        sent = list(case.keys())\n",
    "        # check if case is in cluster\n",
    "        if (all(x in case_clusters[cluster] for x in sent)):\n",
    "                       \n",
    "            # add sentence to cases in the cluster\n",
    "            to_summarize[cluster].extend(case.values())\n",
    "            \n",
    "            # add catchphrases to reference summary in the cluster\n",
    "            ref_summary[cluster].extend(reference.values())"
   ]
  },
  {
   "cell_type": "code",
   "execution_count": 10,
   "metadata": {
    "scrolled": true
   },
   "outputs": [],
   "source": [
    "# Checking all cases in a single cluser\n",
    "# to_summarize[36]"
   ]
  },
  {
   "cell_type": "markdown",
   "metadata": {},
   "source": [
    "# Section 3"
   ]
  },
  {
   "cell_type": "markdown",
   "metadata": {},
   "source": [
    "## Text Summarization for each cluster"
   ]
  },
  {
   "cell_type": "code",
   "execution_count": 12,
   "metadata": {},
   "outputs": [],
   "source": [
    "# import packages to use for summaries\n",
    "from gensim.summarization.summarizer import summarize\n",
    "from gensim.summarization.summarizer import summarize_corpus\n",
    "\n",
    "# create dictionaries to cluster summaries \n",
    "cluster_summaries = {}\n",
    "\n",
    "for cluster, cases in to_summarize.items():\n",
    "    # obtain summary for each cluster\n",
    "    cluster_summaries[cluster] = summarize_corpus(cases, ratio=0.1)"
   ]
  },
  {
   "cell_type": "code",
   "execution_count": 13,
   "metadata": {
    "scrolled": true
   },
   "outputs": [],
   "source": [
    "# checking the summary generated in a cluster\n",
    "# cluster_summaries[36]"
   ]
  },
  {
   "cell_type": "markdown",
   "metadata": {},
   "source": [
    "# Section 4"
   ]
  },
  {
   "cell_type": "markdown",
   "metadata": {},
   "source": [
    "## Summarization Evaluation"
   ]
  },
  {
   "cell_type": "markdown",
   "metadata": {},
   "source": [
    "We will implement the Recall-Oriented Understudy for Gisting Evaluation (ROUGE-N) to evaluate how well our summary is generated. \n",
    "\n",
    "The recall in the context of ROUGE-N measures how much of the reference summary is captured by the generated summary\n",
    "\n",
    "                Recall = Number of overlapping words / Total number of words in reference summary\n",
    "                \n",
    "The precision in the context of ROUGE-N measures how much of the generated summary is relevant\n",
    "    \n",
    "                Precision = Number of overlapping words / Total number of words in generated summary\n",
    "\n",
    "We will be carrying out evaluation at the single word (token) and two-words (bigram) level which are respective ROUGE-1 and ROUGE-2"
   ]
  },
  {
   "cell_type": "code",
   "execution_count": 15,
   "metadata": {},
   "outputs": [],
   "source": [
    "# ROUGE-1 (for tokens)\n",
    "overlapping_words_count_1 = {} \n",
    "all_summary_count_1 = {}\n",
    "all_reference_count_1 = {} \n",
    "tokenized_summary = {} \n",
    "tokenized_reference = {}\n",
    "\n",
    "# ROUGE-2 (for bigrams)\n",
    "overlapping_words_count_2 = {} \n",
    "all_summary_count_2 = {}  \n",
    "all_reference_count_2 = {} \n",
    "bigrams_reference = {}\n",
    "bigrams_summary = {}\n",
    "\n",
    "# tokenize all words in each cluster summary\n",
    "for cluster, summary in cluster_summaries.items():\n",
    "    summary = ' '.join(map(str, summary))\n",
    "    tokens = treebank_tokenizer.tokenize(summary)\n",
    "    tokens = [word for word in tokens if word not in stop_words]\n",
    "    tokenized_summary[cluster] = tokens\n",
    "    bigrams_summary[cluster] = list(nltk.bigrams(tokens))\n",
    "\n",
    "# tokenize all words in each cluster reference\n",
    "for cluster, reference in ref_summary.items():\n",
    "    reference = ' '.join(map(str, reference))\n",
    "    tokens = treebank_tokenizer.tokenize(reference)\n",
    "    tokens = [word for word in tokens if word not in stop_words]\n",
    "    bigrams_reference[cluster] = list(nltk.bigrams(tokens))\n",
    "    tokenized_reference[cluster] = tokens"
   ]
  },
  {
   "cell_type": "code",
   "execution_count": 16,
   "metadata": {},
   "outputs": [],
   "source": [
    "# count overlapping words in each cluster\n",
    "for i, token_summary in tokenized_summary.items():\n",
    "    all_summary_count_1[i] = len(token_summary)\n",
    "    \n",
    "    for j, token_ref in tokenized_reference.items():\n",
    "        all_reference_count_1[j] = len(token_ref)\n",
    "        count = 0\n",
    "        \n",
    "        if i == j:\n",
    "            for word in token_ref:\n",
    "                if word in token_summary:\n",
    "                    count += 1\n",
    "            overlapping_words_count_1[j] = count"
   ]
  },
  {
   "cell_type": "code",
   "execution_count": 17,
   "metadata": {},
   "outputs": [],
   "source": [
    "# count overlapping bigrams in each cluster\n",
    "for i, bigram_summary in bigrams_summary.items():\n",
    "    all_summary_count_2[i] = len(bigram_summary)\n",
    "    \n",
    "    for j, bigram_ref in bigrams_reference.items():\n",
    "        all_reference_count_2[j] = len(bigram_ref)\n",
    "        count = 0\n",
    "        \n",
    "        if i == j:\n",
    "            for bigram in bigram_ref:\n",
    "                if bigram in bigram_summary:\n",
    "                    count += 1\n",
    "            overlapping_words_count_2[j] = count"
   ]
  },
  {
   "cell_type": "code",
   "execution_count": 18,
   "metadata": {},
   "outputs": [],
   "source": [
    "def calc_recall(overlapping_word_count, reference_word_count):\n",
    "    rouge_1_recall = {}\n",
    "    for i, ref_count in reference_word_count.items():\n",
    "        for j, score in overlapping_word_count.items():\n",
    "            if i == j:\n",
    "                rouge_1_recall[j] = overlapping_word_count[j]/reference_word_count[i]\n",
    "    return rouge_1_recall\n",
    "\n",
    "def calc_precision(overlapping_word_count, summary_word_count):\n",
    "    rouge_1_precision = {}\n",
    "    for i, sum_count in summary_word_count.items():\n",
    "        for j, score in overlapping_word_count.items():\n",
    "            if i == j:\n",
    "                if (i == 39):\n",
    "                    rouge_1_precision[j] = 0\n",
    "                else:\n",
    "                    rouge_1_precision[j] = overlapping_word_count[j]/summary_word_count[i]\n",
    "    return rouge_1_precision"
   ]
  },
  {
   "cell_type": "code",
   "execution_count": 19,
   "metadata": {},
   "outputs": [
    {
     "ename": "ZeroDivisionError",
     "evalue": "division by zero",
     "output_type": "error",
     "traceback": [
      "\u001b[1;31m---------------------------------------------------------------------------\u001b[0m",
      "\u001b[1;31mZeroDivisionError\u001b[0m                         Traceback (most recent call last)",
      "\u001b[1;32m<ipython-input-19-31d16feba190>\u001b[0m in \u001b[0;36m<module>\u001b[1;34m\u001b[0m\n\u001b[0;32m      1\u001b[0m \u001b[1;31m# ROUGE-1 Recall and Precision\u001b[0m\u001b[1;33m\u001b[0m\u001b[1;33m\u001b[0m\u001b[1;33m\u001b[0m\u001b[0m\n\u001b[0;32m      2\u001b[0m \u001b[0mrouge_1_recall\u001b[0m \u001b[1;33m=\u001b[0m \u001b[0mcalc_recall\u001b[0m\u001b[1;33m(\u001b[0m\u001b[0moverlapping_words_count_1\u001b[0m\u001b[1;33m,\u001b[0m \u001b[0mall_reference_count_1\u001b[0m\u001b[1;33m)\u001b[0m\u001b[1;33m\u001b[0m\u001b[1;33m\u001b[0m\u001b[0m\n\u001b[1;32m----> 3\u001b[1;33m \u001b[0mrouge_1_precision\u001b[0m \u001b[1;33m=\u001b[0m \u001b[0mcalc_precision\u001b[0m\u001b[1;33m(\u001b[0m\u001b[0moverlapping_words_count_1\u001b[0m\u001b[1;33m,\u001b[0m \u001b[0mall_summary_count_1\u001b[0m\u001b[1;33m)\u001b[0m\u001b[1;33m\u001b[0m\u001b[1;33m\u001b[0m\u001b[0m\n\u001b[0m\u001b[0;32m      4\u001b[0m \u001b[1;33m\u001b[0m\u001b[0m\n\u001b[0;32m      5\u001b[0m \u001b[1;31m# ROUGE-2 Recall and Precision\u001b[0m\u001b[1;33m\u001b[0m\u001b[1;33m\u001b[0m\u001b[1;33m\u001b[0m\u001b[0m\n",
      "\u001b[1;32m<ipython-input-18-4f3233eb9561>\u001b[0m in \u001b[0;36mcalc_precision\u001b[1;34m(overlapping_word_count, summary_word_count)\u001b[0m\n\u001b[0;32m     15\u001b[0m                     \u001b[0mrouge_1_precision\u001b[0m\u001b[1;33m[\u001b[0m\u001b[0mj\u001b[0m\u001b[1;33m]\u001b[0m \u001b[1;33m=\u001b[0m \u001b[1;36m0\u001b[0m\u001b[1;33m\u001b[0m\u001b[1;33m\u001b[0m\u001b[0m\n\u001b[0;32m     16\u001b[0m                 \u001b[1;32melse\u001b[0m\u001b[1;33m:\u001b[0m\u001b[1;33m\u001b[0m\u001b[1;33m\u001b[0m\u001b[0m\n\u001b[1;32m---> 17\u001b[1;33m                     \u001b[0mrouge_1_precision\u001b[0m\u001b[1;33m[\u001b[0m\u001b[0mj\u001b[0m\u001b[1;33m]\u001b[0m \u001b[1;33m=\u001b[0m \u001b[0moverlapping_word_count\u001b[0m\u001b[1;33m[\u001b[0m\u001b[0mj\u001b[0m\u001b[1;33m]\u001b[0m\u001b[1;33m/\u001b[0m\u001b[0msummary_word_count\u001b[0m\u001b[1;33m[\u001b[0m\u001b[0mi\u001b[0m\u001b[1;33m]\u001b[0m\u001b[1;33m\u001b[0m\u001b[1;33m\u001b[0m\u001b[0m\n\u001b[0m\u001b[0;32m     18\u001b[0m     \u001b[1;32mreturn\u001b[0m \u001b[0mrouge_1_precision\u001b[0m\u001b[1;33m\u001b[0m\u001b[1;33m\u001b[0m\u001b[0m\n",
      "\u001b[1;31mZeroDivisionError\u001b[0m: division by zero"
     ]
    }
   ],
   "source": [
    "# ROUGE-1 Recall and Precision\n",
    "rouge_1_recall = calc_recall(overlapping_words_count_1, all_reference_count_1)\n",
    "rouge_1_precision = calc_precision(overlapping_words_count_1, all_summary_count_1)\n",
    "\n",
    "# ROUGE-2 Recall and Precision\n",
    "rouge_2_recall = calc_recall(overlapping_words_count_2, all_reference_count_2)\n",
    "rouge_2_precision = calc_precision(overlapping_words_count_2, all_summary_count_2)"
   ]
  },
  {
   "cell_type": "code",
   "execution_count": null,
   "metadata": {},
   "outputs": [],
   "source": [
    "# create data frame for ROUGE-1 scores\n",
    "df_rogue_1_recall = pd.DataFrame.from_dict(rouge_1_recall, orient='index',\n",
    "                       columns=['recall']).reset_index()\n",
    "df_rogue_1_recall = df_rogue_1_recall.rename(columns={\"index\": \"Cluster\", \"recall\": \"Recall\"}).sort_values(by=['Cluster'])\n",
    "\n",
    "\n",
    "df_rogue_1_precision = pd.DataFrame.from_dict(rouge_1_precision, orient='index',\n",
    "                       columns=['Precision']).reset_index()\n",
    "df_rogue_1_precision = df_rogue_1_precision.rename(columns={\"index\": \"Cluster\"}).sort_values(by=['Cluster'])\n",
    "\n",
    "df_rogue_1_recall_and_precision = pd.merge(df_rogue_1_recall, df_rogue_1_precision, on='Cluster', how='outer')"
   ]
  },
  {
   "cell_type": "code",
   "execution_count": null,
   "metadata": {},
   "outputs": [],
   "source": [
    "# create data frame for ROUGE-2 scores\n",
    "df_rogue_2_recall = pd.DataFrame.from_dict(rouge_2_recall, orient='index',\n",
    "                       columns=['recall']).reset_index()\n",
    "df_rogue_2_recall = df_rogue_2_recall.rename(columns={\"index\": \"Cluster\", \"recall\": \"Recall\"}).sort_values(by=['Cluster'])\n",
    "\n",
    "\n",
    "df_rogue_2_precision = pd.DataFrame.from_dict(rouge_2_precision, orient='index',\n",
    "                       columns=['Precision']).reset_index()\n",
    "df_rogue_2_precision = df_rogue_2_precision.rename(columns={\"index\": \"Cluster\"}).sort_values(by=['Cluster'])\n",
    "\n",
    "df_rogue_2_recall_and_precision = pd.merge(df_rogue_2_recall, df_rogue_2_precision, on='Cluster', how='outer')"
   ]
  },
  {
   "cell_type": "code",
   "execution_count": 20,
   "metadata": {
    "scrolled": true
   },
   "outputs": [
    {
     "data": {
      "text/plain": [
       "Text(0.5, 1.0, 'Line Plot of ROUGE-1 Recall and Case Clusters')"
      ]
     },
     "execution_count": 20,
     "metadata": {},
     "output_type": "execute_result"
    },
    {
     "data": {
      "image/png": "[encoded data removed]",
      "text/plain": [
       "<Figure size 432x288 with 1 Axes>"
      ]
     },
     "metadata": {},
     "output_type": "display_data"
    }
   ],
   "source": [
    "rouge1_plot1 = sns.lineplot(x=\"Cluster\", y=\"Recall\", data=df_rogue_1_recall)\n",
    "plt.title(\"Line Plot of ROUGE-1 Recall and Case Clusters\")"
   ]
  },
  {
   "cell_type": "code",
   "execution_count": 21,
   "metadata": {
    "scrolled": true
   },
   "outputs": [
    {
     "data": {
      "text/plain": [
       "Text(0.5, 1.0, 'Line Plot of ROUGE-1 Precision and Case Clusters')"
      ]
     },
     "execution_count": 21,
     "metadata": {},
     "output_type": "execute_result"
    },
    {
     "data": {
      "image/png": "[encoded data removed]",
      "text/plain": [
       "<Figure size 432x288 with 1 Axes>"
      ]
     },
     "metadata": {},
     "output_type": "display_data"
    }
   ],
   "source": [
    "rouge1_plot2 = sns.lineplot(x=\"Cluster\", y=\"Precision\", data=df_rogue_1_precision)\n",
    "plt.title(\"Line Plot of ROUGE-1 Precision and Case Clusters\")"
   ]
  },
  {
   "cell_type": "code",
   "execution_count": 22,
   "metadata": {},
   "outputs": [
    {
     "data": {
      "text/plain": [
       "Text(0.5, 1.0, 'Line Plot of ROUGE-2 Recall and Case Clusters')"
      ]
     },
     "execution_count": 22,
     "metadata": {},
     "output_type": "execute_result"
    },
    {
     "data": {
      "image/png": "[encoded data removed]",
      "text/plain": [
       "<Figure size 432x288 with 1 Axes>"
      ]
     },
     "metadata": {},
     "output_type": "display_data"
    }
   ],
   "source": [
    "rouge2_plot1 = sns.lineplot(x=\"Cluster\", y=\"Recall\", data=df_rogue_2_recall)\n",
    "plt.title(\"Line Plot of ROUGE-2 Recall and Case Clusters\")"
   ]
  },
  {
   "cell_type": "code",
   "execution_count": 23,
   "metadata": {},
   "outputs": [
    {
     "data": {
      "text/plain": [
       "Text(0.5, 1.0, 'Line Plot of ROUGE-2 Precision and Case Clusters')"
      ]
     },
     "execution_count": 23,
     "metadata": {},
     "output_type": "execute_result"
    },
    {
     "data": {
      "image/png": "[encoded data removed]",
      "text/plain": [
       "<Figure size 432x288 with 1 Axes>"
      ]
     },
     "metadata": {},
     "output_type": "display_data"
    }
   ],
   "source": [
    "rouge2_plot2 = sns.lineplot(x=\"Cluster\", y=\"Precision\", data=df_rogue_2_precision)\n",
    "plt.title(\"Line Plot of ROUGE-2 Precision and Case Clusters\")"
   ]
  }
 ],
 "metadata": {
  "celltoolbar": "Raw Cell Format",
  "kernelspec": {
   "display_name": "Python 3",
   "language": "python",
   "name": "python3"
  },
  "language_info": {
   "codemirror_mode": {
    "name": "ipython",
    "version": 3
   },
   "file_extension": ".py",
   "mimetype": "text/x-python",
   "name": "python",
   "nbconvert_exporter": "python",
   "pygments_lexer": "ipython3",
   "version": "3.7.6"
  }
 },
 "nbformat": 4,
 "nbformat_minor": 4
}
